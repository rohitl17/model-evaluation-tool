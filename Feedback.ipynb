{
 "cells": [
  {
   "cell_type": "code",
   "execution_count": null,
   "metadata": {},
   "outputs": [],
   "source": [
    "import pandas as pd\n",
    "from ipywidgets import interact\n",
    "import ipywidgets as widgets\n",
    "import glob, cv2\n",
    "import matplotlib.pyplot as plt\n",
    "import os"
   ]
  },
  {
   "cell_type": "code",
   "execution_count": null,
   "metadata": {},
   "outputs": [],
   "source": [
    "# pathology='pneumonia'\n",
    "parent_directory='../'\n",
    "parent_images_path=parent_directory+'/radiologist_audit/'\n",
    "output_csv_path=parent_images_path+'radiologist_feedback_csvs/'\n",
    "\n",
    "# os.makedirs(output_csv_path)"
   ]
  },
  {
   "cell_type": "code",
   "execution_count": null,
   "metadata": {},
   "outputs": [],
   "source": [
    "pathology_names=['Others','normal',\n",
    " 'pneumonia',\n",
    " 'covid',\n",
    " 'edema',\n",
    " 'atelectasis',\n",
    " 'tuberculosis',\n",
    " 'fibrosis',\n",
    " 'cardiomegaly',\n",
    " 'pleural effusion',\n",
    " 'surgical emphysema',\n",
    " 'nodule',\n",
    " 'pneumothorax',\n",
    " 'scoliosis',\n",
    " 'opaque hemithorax',\n",
    " 'hernia',\n",
    " 'pleural thickening',\n",
    "'lung mass', 'ILD', 'consolidation', 'bronchietasis','fracture']\n",
    "\n",
    "pathology_names=sorted(pathology_names)\n",
    "pathology_names.insert(0, 'N/A')"
   ]
  },
  {
   "cell_type": "markdown",
   "metadata": {},
   "source": [
    "question_option_dict = { '1. Does the image contain Pneumonia?': ['Yes', 'No', 'Uncertain'],\n",
    "  '2. If yes, what is the severity of involvement?': ['N/A', 'Mild', 'Moderate', 'Severe'],\n",
    "  '3. Which part of the Lung is involved?': ['N/A','LLL', 'LUL', 'RUL', 'RML', 'RLL'],\n",
    "  '4. Does the mask coincide with the actual region of involvment?': ['N/A', 'No', 'Undercoverage', 'Perfect', 'Overcoverage', 'Exists in one, caught in both', 'Exists in both, caught in one'],\n",
    "  '5. If the Image does/does not contain Pneumonia, is the model marking any other condition incorrectly?': pathology_names,\n",
    "  '6. What class can the image be classified into given the prediction and reviewing radiologist as GT': ['TP', 'FN','TN','FP']\n",
    "                       }\n",
    "\n",
    "questions=list(question_option_dict.keys())\n",
    "options=list(question_option_dict.values())"
   ]
  },
  {
   "cell_type": "code",
   "execution_count": null,
   "metadata": {},
   "outputs": [],
   "source": [
    "question_option_dict = { \n",
    "'1. Is the Image abnormal?': ['Yes', 'No', 'Uncertain'],\n",
    "'2. Does the mask coincide with the actual region of involvment?': ['N/A', 'No', 'Undercoverage', 'Perfect', 'Overcoverage', 'Exists in one, caught in both', 'Exists in both, caught in one'],\n",
    "'3. Does the heatmap coincide with the actual region of involvment?': ['N/A', 'No', 'Undercoverage', 'Perfect', 'Overcoverage', 'Exists in one, caught in both', 'Exists in both, caught in one'],\n",
    "'4. Which pathologies is the model correctly demarcating?': pathology_names,\n",
    "'5. Which pathologies is the model missing out on?': pathology_names,\n",
    "'6.  On the basis of the heatmap, is there a pathology where the model is less confident? ': pathology_names,\n",
    "'7. What class can the image be classified into given the prediction and reviewing radiologist as GT': ['TP', 'FN','TN','FP']        \n",
    "                       }\n",
    "\n",
    "questions=list(question_option_dict.keys())\n",
    "options=list(question_option_dict.values())"
   ]
  },
  {
   "cell_type": "code",
   "execution_count": null,
   "metadata": {},
   "outputs": [],
   "source": [
    "def radiologist_interactive_feedback(images):\n",
    "    df=pd.read_csv('../predicted_csvs/prediction_normal_platform.csv')\n",
    "    df['filename']=df['image_name']\n",
    "    df['filename']=df['filename'].apply(lambda x: x.split('/')[-1])\n",
    "    df['filename']=df['filename'].apply(lambda x: 'normal_platform_'+x)\n",
    "    \n",
    "    \n",
    "    for idx, i in enumerate(images):\n",
    "        print (str(idx*100.0/len(images))+\"% Done\")\n",
    "        image=cv2.imread(i)\n",
    "        probability=str(df.loc[df['filename']==i.split('/')[-1]]['AI_probability'].values[0])\n",
    "        fig, ax = plt.subplots(nrows=1,ncols=1,figsize=(20,20))\n",
    "        plt.subplot(121)\n",
    "        plt.imshow(cv2.cvtColor(image,cv2.COLOR_BGR2RGB))\n",
    "        plt.title(i.split('/')[-1]+\"  :  \"+probability)\n",
    "        plt.show()\n",
    "\n",
    "        print(questions[0])\n",
    "        answer=widgets.Select(options=options[0], disabled=False)\n",
    "        answer_0.append(answer)\n",
    "        display(answer_0[idx])\n",
    "        print('\\n')\n",
    "\n",
    "        print(questions[1])\n",
    "        answer=widgets.Select(options=options[1], disabled=False)\n",
    "        answer_1.append(answer)\n",
    "        display(answer_1[idx])\n",
    "        print('\\n')\n",
    "\n",
    "        print(questions[2])\n",
    "        answer=widgets.SelectMultiple(options=options[2], disabled=False)\n",
    "        answer_2.append(answer)\n",
    "        display(answer_2[idx])\n",
    "        print('\\n')\n",
    "\n",
    "        print(questions[3])\n",
    "        answer=widgets.Select(options=options[3], disabled=False)\n",
    "        answer_3.append(answer)\n",
    "        display(answer_3[idx])\n",
    "        print('\\n')\n",
    "\n",
    "        print(questions[4])\n",
    "        answer=widgets.SelectMultiple(options=options[4], disabled=False)\n",
    "        answer_4.append(answer)\n",
    "        display(answer_4[idx])\n",
    "        print('\\n')\n",
    "\n",
    "        print(questions[5])\n",
    "        answer=widgets.Select(options=options[5], disabled=False)\n",
    "        answer_5.append(answer)\n",
    "        display(answer_5[idx])\n",
    "        print('\\n')\n",
    "\n",
    "        print(questions[6])\n",
    "        answer=widgets.Select(options=options[6], disabled=False)\n",
    "        answer_6.append(answer)\n",
    "        display(answer_6[idx])\n",
    "        print('\\n')        \n",
    "        \n",
    "\n",
    "def process_feedback(path, lists_of_answers):\n",
    "    processed_answer_0=[i.value for i in lists_of_answers[0]]\n",
    "    processed_answer_1=[i.value for i in lists_of_answers[1]]\n",
    "    processed_answer_2=[i.value for i in lists_of_answers[2]]\n",
    "    processed_answer_3=[i.value for i in lists_of_answers[3]]\n",
    "    processed_answer_4=[i.value for i in lists_of_answers[4]]\n",
    "    processed_answer_5=[i.value for i in lists_of_answers[5]]\n",
    "    processed_answer_6=[i.value for i in lists_of_answers[6]]\n",
    "\n",
    "    df=pd.DataFrame()\n",
    "    df['Image_Path']=images\n",
    "    df[questions[0]]=processed_answer_0\n",
    "    df[questions[1]]=processed_answer_1\n",
    "    df[questions[2]]=processed_answer_2\n",
    "    df[questions[3]]=processed_answer_3\n",
    "    df[questions[4]]=processed_answer_4\n",
    "    df[questions[5]]=processed_answer_5\n",
    "    df[questions[6]]=processed_answer_6\n",
    "    \n",
    "    df.to_csv(path+'_radiologist_feedback.csv')"
   ]
  },
  {
   "cell_type": "markdown",
   "metadata": {},
   "source": [
    "# High Confidence Positive Images"
   ]
  },
  {
   "cell_type": "code",
   "execution_count": null,
   "metadata": {},
   "outputs": [],
   "source": [
    "images=glob.glob(parent_images_path+'highly_confident_positive_images/lung_mass_*.png')\n",
    "\n",
    "answer_0 = []\n",
    "answer_1 = []\n",
    "answer_2 = []\n",
    "answer_3 = []\n",
    "answer_4 = []\n",
    "answer_5 = []\n",
    "answer_6 = []\n",
    "\n",
    "radiologist_interactive_feedback(images)"
   ]
  },
  {
   "cell_type": "code",
   "execution_count": null,
   "metadata": {},
   "outputs": [],
   "source": [
    "lists_of_answers=[answer_0, answer_1, answer_2, answer_3, answer_4, answer_5, answer_6]\n",
    "\n",
    "process_feedback(output_csv_path+'/highly_confident_positive_images', lists_of_answers)\n",
    "\n",
    "# df.to_csv('./highly_confident_positive_lung_mass_radiologist_feedback.csv', index=None)"
   ]
  },
  {
   "cell_type": "code",
   "execution_count": null,
   "metadata": {},
   "outputs": [],
   "source": []
  },
  {
   "cell_type": "markdown",
   "metadata": {},
   "source": [
    "# Medium Confidence Positive Images"
   ]
  },
  {
   "cell_type": "code",
   "execution_count": null,
   "metadata": {},
   "outputs": [],
   "source": [
    "images=glob.glob(parent_images_path+'medium_confident_positive_images/*.png')\n",
    "\n",
    "answer_0 = []\n",
    "answer_1 = []\n",
    "answer_2 = []\n",
    "answer_3 = []\n",
    "answer_4 = []\n",
    "answer_5 = []\n",
    "answer_6 = []\n",
    "\n",
    "radiologist_interactive_feedback(images)"
   ]
  },
  {
   "cell_type": "code",
   "execution_count": null,
   "metadata": {},
   "outputs": [],
   "source": [
    "lists_of_answers=[answer_0, answer_1, answer_2, answer_3, answer_4, answer_5, answer_6]\n",
    "\n",
    "process_feedback(output_csv_path+'/medium_confident_positive_images', lists_of_answers)"
   ]
  },
  {
   "cell_type": "code",
   "execution_count": null,
   "metadata": {},
   "outputs": [],
   "source": []
  },
  {
   "cell_type": "markdown",
   "metadata": {},
   "source": [
    "# Low Confidence Positive Images"
   ]
  },
  {
   "cell_type": "code",
   "execution_count": null,
   "metadata": {},
   "outputs": [],
   "source": [
    "images=glob.glob(parent_images_path+'low_confident_positive_images/*.png')\n",
    "\n",
    "answer_0 = []\n",
    "answer_1 = []\n",
    "answer_2 = []\n",
    "answer_3 = []\n",
    "answer_4 = []\n",
    "answer_5 = []\n",
    "answer_6 = []\n",
    "\n",
    "radiologist_interactive_feedback(images)"
   ]
  },
  {
   "cell_type": "code",
   "execution_count": null,
   "metadata": {},
   "outputs": [],
   "source": [
    "lists_of_answers=[answer_0, answer_1, answer_2, answer_3, answer_4, answer_5, answer_6]\n",
    "\n",
    "process_feedback(output_csv_path+'/low_confident_positive_images', lists_of_answers)"
   ]
  },
  {
   "cell_type": "code",
   "execution_count": null,
   "metadata": {},
   "outputs": [],
   "source": []
  },
  {
   "cell_type": "markdown",
   "metadata": {},
   "source": [
    "# High Confidence Negative Images"
   ]
  },
  {
   "cell_type": "code",
   "execution_count": null,
   "metadata": {},
   "outputs": [],
   "source": [
    "images=glob.glob(parent_images_path+'highly_confident_negative_images/normal_platform_*.png')\n",
    "\n",
    "answer_0 = []\n",
    "answer_1 = []\n",
    "answer_2 = []\n",
    "answer_3 = []\n",
    "answer_4 = []\n",
    "answer_5 = []\n",
    "answer_6 = []\n",
    "\n",
    "radiologist_interactive_feedback(images[0:50])"
   ]
  },
  {
   "cell_type": "code",
   "execution_count": null,
   "metadata": {},
   "outputs": [],
   "source": [
    "lists_of_answers=[answer_0, answer_1, answer_2, answer_3, answer_4, answer_5, answer_6]\n",
    "\n",
    "process_feedback(output_csv_path+'/highly_confident_negative_images_normal_kaggle_fit', lists_of_answers)"
   ]
  },
  {
   "cell_type": "code",
   "execution_count": null,
   "metadata": {},
   "outputs": [],
   "source": [
    "len(answer_4)"
   ]
  },
  {
   "cell_type": "code",
   "execution_count": null,
   "metadata": {},
   "outputs": [],
   "source": []
  },
  {
   "cell_type": "markdown",
   "metadata": {},
   "source": [
    "# Medium Confidence Negative Images"
   ]
  },
  {
   "cell_type": "code",
   "execution_count": null,
   "metadata": {},
   "outputs": [],
   "source": [
    "images=glob.glob(parent_images_path+'medium_confident_negative_images/normal_platform_*.png')\n",
    "\n",
    "answer_0 = []\n",
    "answer_1 = []\n",
    "answer_2 = []\n",
    "answer_3 = []\n",
    "answer_4 = []\n",
    "answer_5 = []\n",
    "answer_6 = []\n",
    "\n",
    "radiologist_interactive_feedback(images)"
   ]
  },
  {
   "cell_type": "code",
   "execution_count": null,
   "metadata": {},
   "outputs": [],
   "source": [
    "lists_of_answers=[answer_0, answer_1, answer_2, answer_3, answer_4, answer_5, answer_6]\n",
    "\n",
    "process_feedback(output_csv_path+'/medium_confident_negative_images_normal_kaggle_fit', lists_of_answers)"
   ]
  },
  {
   "cell_type": "code",
   "execution_count": null,
   "metadata": {},
   "outputs": [],
   "source": []
  },
  {
   "cell_type": "markdown",
   "metadata": {},
   "source": [
    "# Low Confidence Negative Images"
   ]
  },
  {
   "cell_type": "code",
   "execution_count": null,
   "metadata": {},
   "outputs": [],
   "source": [
    "images=glob.glob(parent_images_path+'low_confident_negative_images/normal_platform_*.png')\n",
    "\n",
    "answer_0 = []\n",
    "answer_1 = []\n",
    "answer_2 = []\n",
    "answer_3 = []\n",
    "answer_4 = []\n",
    "answer_5 = []\n",
    "answer_6 = []\n",
    "\n",
    "radiologist_interactive_feedback(images)"
   ]
  },
  {
   "cell_type": "code",
   "execution_count": null,
   "metadata": {},
   "outputs": [],
   "source": [
    "lists_of_answers=[answer_0, answer_1, answer_2, answer_3, answer_4, answer_5, answer_6]\n",
    "\n",
    "process_feedback(output_csv_path+'/low_confident_negative_images_normal_kaggle_fit', lists_of_answers)"
   ]
  },
  {
   "cell_type": "code",
   "execution_count": null,
   "metadata": {},
   "outputs": [],
   "source": []
  },
  {
   "cell_type": "code",
   "execution_count": null,
   "metadata": {},
   "outputs": [],
   "source": []
  },
  {
   "cell_type": "markdown",
   "metadata": {},
   "source": [
    "# Collate All CSVs"
   ]
  },
  {
   "cell_type": "code",
   "execution_count": null,
   "metadata": {},
   "outputs": [],
   "source": [
    "all_csvs=glob.glob(output_csv_path+'/*.csv')\n",
    "df=pd.DataFrame()\n",
    "\n",
    "for i in all_csvs:\n",
    "    temp_df=pd.read_csv(i)\n",
    "    df=pd.concat([df, temp_df])\n",
    "    \n",
    "df.to_csv(output_csv_path+'combined_feedback.csv')"
   ]
  },
  {
   "cell_type": "code",
   "execution_count": null,
   "metadata": {},
   "outputs": [],
   "source": []
  }
 ],
 "metadata": {
  "kernelspec": {
   "display_name": "Python 3",
   "language": "python",
   "name": "python3"
  },
  "language_info": {
   "codemirror_mode": {
    "name": "ipython",
    "version": 3
   },
   "file_extension": ".py",
   "mimetype": "text/x-python",
   "name": "python",
   "nbconvert_exporter": "python",
   "pygments_lexer": "ipython3",
   "version": "3.8.8"
  }
 },
 "nbformat": 4,
 "nbformat_minor": 4
}
